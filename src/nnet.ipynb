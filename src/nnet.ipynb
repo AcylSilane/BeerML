{
 "cells": [
  {
   "cell_type": "code",
   "execution_count": 1,
   "metadata": {},
   "outputs": [
    {
     "name": "stderr",
     "output_type": "stream",
     "text": [
      "Using TensorFlow backend.\n"
     ]
    }
   ],
   "source": [
    "# This code will train a 2-layer neural network to predict a beer's ABV given the Brewer's Friend dataset\n",
    "# NN architecture consists of two layers of 12 neurons each (e.g. 1 hidden layer), expecting a length-12 input vector\n",
    "# Training occurs over 100 epochs using the Keras interface for TensorFlow\n",
    "\n",
    "import pandas as pd\n",
    "import numpy as np\n",
    "import matplotlib.pyplot as plt\n",
    "import keras\n",
    "import operator\n",
    "import functools"
   ]
  },
  {
   "cell_type": "code",
   "execution_count": 2,
   "metadata": {},
   "outputs": [
    {
     "name": "stdout",
     "output_type": "stream",
     "text": [
      "Predictors are:  Size, OG, FG, Color, BoilSize, BoilTime, BoilGravity, Efficiency, MashThickness, PitchRate, PrimaryTemp, IBU\n"
     ]
    }
   ],
   "source": [
    "# Data setup\n",
    "data = pd.read_csv(\"data/numerical_recipe_data_processed.csv\")\n",
    "# Standardize data by subtracting the mean and dividing by the standard deviation\n",
    "mean = data.mean(axis=0)\n",
    "sdev = data.std(axis=0)\n",
    "data = (data - mean) / sdev\n",
    "# Separate predictors from responses\n",
    "x_headers = list(x for x in data.columns if x != \"ABV\")\n",
    "print(\"Predictors are: \", \", \".join(x_headers))\n",
    "y_headers= [\"ABV\"]\n",
    "x_vals = data[x_headers]\n",
    "y_vals = data[y_headers]\n",
    "\n",
    "# Random seed for reproducibility\n",
    "seed = 1234\n",
    "np.random.seed(seed)"
   ]
  },
  {
   "cell_type": "code",
   "execution_count": 3,
   "metadata": {},
   "outputs": [],
   "source": [
    "# Neural Network\n",
    "nnet = keras.models.Sequential()\n",
    "# First layer\n",
    "nnet.add(keras.layers.Dense(units = 12, # 12 neurons in the layer\n",
    "                                  input_dim = 12, # 12 inputs to the layer\n",
    "                                  activation = \"relu\", # Activation function; choosing a rectified linear unit\n",
    "                                  kernel_initializer = \"normal\", # Initialize weights from normal distribution\n",
    "                                  bias_initializer = \"normal\" # Same for bias vector\n",
    "                                 )\n",
    "              )\n",
    "# Hidden Layer\n",
    "nnet.add(keras.layers.Dense(units = 12,\n",
    "                           activation = \"relu\",\n",
    "                           kernel_initializer = \"normal\",\n",
    "                           bias_initializer = \"normal\")\n",
    "        )\n",
    "# Output Layer\n",
    "nnet.add(keras.layers.Dense(units = 1,\n",
    "                                 kernel_initializer = \"normal\"))\n",
    "# Generate the graph\n",
    "nnet.compile(loss = 'mean_squared_error', # Loss function for the model\n",
    "                   optimizer = 'sgd', # Stochastic Gradient Descent\n",
    "                   metrics = ['mse', 'mae'] # Error metrics we want to monitor while the model is trained\n",
    "                  )\n",
    "# Train the network\n",
    "numEpochs = 100\n",
    "history = nnet.fit(x_vals, # Training data\n",
    "                         y_vals, # Labels\n",
    "                         epochs = numEpochs, # How many times to iterate over the data; we have >40k test cases\n",
    "                         validation_split = 0.2, # Peel off 20% of the training set for validation\n",
    "                         verbose = 0\n",
    "                        )\n"
   ]
  },
  {
   "cell_type": "code",
   "execution_count": 4,
   "metadata": {},
   "outputs": [
    {
     "data": {
      "image/png": "[encoded data removed]",
      "text/plain": [
       "<Figure size 432x288 with 1 Axes>"
      ]
     },
     "metadata": {
      "needs_background": "light"
     },
     "output_type": "display_data"
    }
   ],
   "source": [
    "plt.figure()\n",
    "plt.xlabel(\"Epoch\")\n",
    "plt.ylabel(\"MSE\")\n",
    "plt.plot(history.epoch,\n",
    "         np.array(history.history['mean_squared_error']),\n",
    "         label = \"Training MSE\"\n",
    "        )\n",
    "plt.plot(history.epoch,\n",
    "        np.array(history.history['val_mean_squared_error']),\n",
    "        label = \"Validation MSE\"\n",
    "        )\n",
    "plt.legend()\n",
    "plt.show()\n",
    "plt.close()"
   ]
  },
  {
   "cell_type": "code",
   "execution_count": 5,
   "metadata": {},
   "outputs": [
    {
     "data": {
      "image/png": "[encoded data removed]",
      "text/plain": [
       "<Figure size 432x288 with 1 Axes>"
      ]
     },
     "metadata": {
      "needs_background": "light"
     },
     "output_type": "display_data"
    }
   ],
   "source": [
    "# Zoom in to the first few epochs\n",
    "plt.figure()\n",
    "plt.xlabel(\"Epoch\")\n",
    "plt.ylabel(\"MSE\")\n",
    "plt.plot(history.epoch[0:5],\n",
    "         np.array(history.history['mean_squared_error'])[0:5],\n",
    "         label = \"Training MSE\"\n",
    "        )\n",
    "plt.plot(history.epoch[0:5],\n",
    "        np.array(history.history['val_mean_squared_error'])[0:5],\n",
    "        label = \"Validation MSE\"\n",
    "        )\n",
    "plt.legend()\n",
    "plt.show()"
   ]
  },
  {
   "cell_type": "code",
   "execution_count": 6,
   "metadata": {},
   "outputs": [
    {
     "name": "stdout",
     "output_type": "stream",
     "text": [
      "             ABV  Predicted     Error\n",
      "15702   1.741408   1.601778  0.139630\n",
      "4066    5.510766   5.847079 -0.336313\n",
      "242     9.107218   9.082861  0.024357\n",
      "5307    2.675102   2.983029 -0.307927\n",
      "17713  -2.684995  -2.758548  0.073553\n",
      "417    18.513323  15.058155  3.455168\n",
      "13667   4.922884   4.812235  0.110649\n",
      "6591    2.778846   2.982087 -0.203241\n",
      "14339  -1.059675  -0.605152 -0.454523\n",
      "3394    4.196678   3.906978  0.289700\n",
      "18061   2.951752   2.670512  0.281240\n",
      "2375   27.089477  27.077427  0.012050\n",
      "4921   10.628794  10.786824 -0.158031\n",
      "8499    0.600226   0.763300 -0.163074\n",
      "18587  -3.653270  -3.311375 -0.341895\n",
      "2532    9.902587   8.067732  1.834855\n",
      "1460   -2.339182  -2.434602  0.095420\n",
      "1697    5.718253   5.761174 -0.042921\n",
      "9591    8.381011   8.592234 -0.211223\n",
      "7556   -2.996226  -2.859939 -0.136287\n",
      "18969  -1.716719  -1.672818 -0.043901\n",
      "6455    4.369584   4.364767  0.004817\n",
      "18668  -4.137408  -4.159818  0.022410\n",
      "2369   -6.004796  -5.599258 -0.405538\n",
      "1402    2.744264   3.019167 -0.274903\n",
      "16913 -10.984499  -8.985076 -1.999423\n",
      "3691   -0.679281  -0.608811 -0.070470\n",
      "1251   10.732537  10.794287 -0.061749\n",
      "1477   18.271254  18.481812 -0.210558\n",
      "1479   17.614210  17.712006 -0.097796\n",
      "10250   0.427319   0.791832 -0.364512\n",
      "341    13.291551  13.483493 -0.191942\n",
      "17607  -2.131694  -1.939570 -0.192124\n",
      "14694  -2.581251  -2.341689 -0.239562\n",
      "8139    2.640521   3.009250 -0.368730\n",
      "8282    2.087220   2.120024 -0.032804\n",
      "1276    9.453030   9.916120 -0.463089\n",
      "13312  -4.448639  -4.279223 -0.169416\n",
      "10440  -0.160562  -0.112913 -0.047650\n",
      "4014    6.582785   6.561134  0.021651\n",
      "10602  -0.783025  -0.604177 -0.178848\n",
      "10006   2.605939   2.526182  0.079757\n",
      "12315  -0.748444  -0.603577 -0.144867\n",
      "6890    0.911457   1.232734 -0.321277\n",
      "18196  -0.402631  -0.183778 -0.218853\n",
      "6116   -4.517802  -4.714090  0.196288\n",
      "2222    3.435890   3.510088 -0.074198\n",
      "11334  -3.791595  -3.703851 -0.087745\n",
      "7514   -2.546670  -2.384094 -0.162576\n",
      "15000  -3.065389  -3.317085  0.251696\n"
     ]
    }
   ],
   "source": [
    "# Pull random test cases\n",
    "numSamples = 50\n",
    "eval_set = data.sample(numSamples)\n",
    "x_eval = eval_set[x_headers]\n",
    "y_eval = eval_set[y_headers]\n",
    "pd.options.mode.chained_assignment = None # Disable chained assignment warning; we know we're working on a copy here\n",
    "y_eval[\"Predicted\"] = nnet.predict(x_eval)\n",
    "# Return data to original scale\n",
    "mean_y = mean[\"ABV\"]\n",
    "sdev_y = sdev[\"ABV\"]\n",
    "for col in y_eval:\n",
    "    y_eval[col] *= mean_y\n",
    "    y_eval[col] += sdev_y\n",
    "# Calculate Error\n",
    "y_eval[\"Error\"] = y_eval[\"ABV\"] - y_eval[\"Predicted\"]\n",
    "print(y_eval)"
   ]
  }
 ],
 "metadata": {
  "kernelspec": {
   "display_name": "Python 3",
   "language": "python",
   "name": "python3"
  },
  "language_info": {
   "codemirror_mode": {
    "name": "ipython",
    "version": 3
   },
   "file_extension": ".py",
   "mimetype": "text/x-python",
   "name": "python",
   "nbconvert_exporter": "python",
   "pygments_lexer": "ipython3",
   "version": "3.6.7"
  }
 },
 "nbformat": 4,
 "nbformat_minor": 2
}
